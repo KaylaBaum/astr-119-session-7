{
 "cells": [
  {
   "cell_type": "code",
   "execution_count": null,
   "metadata": {},
   "outputs": [],
   "source": [
    "%matplotlib inline\n",
    "import numpy as np\n",
    "import matplotlib.pyplot as plt"
   ]
  },
  {
   "cell_type": "markdown",
   "metadata": {},
   "source": [
    "## Define a function for which we'd like to find the roots"
   ]
  },
  {
   "cell_type": "code",
   "execution_count": null,
   "metadata": {},
   "outputs": [],
   "source": [
    "def function_for_roots(x):\n",
    "    a = 1.1\n",
    "    b = -3.04\n",
    "    c = 2.07\n",
    "    return a*x**2 + b*x + c #get the roots of ax^2 + bx + c"
   ]
  },
  {
   "cell_type": "markdown",
   "metadata": {},
   "source": [
    "## We need a function to check whether our initial values are valid"
   ]
  },
  {
   "cell_type": "code",
   "execution_count": null,
   "metadata": {},
   "outputs": [],
   "source": [
    "def check_initial_values(f,x_min,x_max,tol):\n",
    "    \n",
    "    #check our initial guesses\n",
    "    y_min = f(x_min)\n",
    "    y_max = f(x_max)\n",
    "    \n",
    "    #check that x_min and x_max contain a zero crossing\n",
    "    if(y_min*y_max>=0.0):\n",
    "        print(\"No zero crossing found in the range = \",x_min,x_max)\n",
    "        # CONTINUE WRITING PROGRAM HERE"
   ]
  }
 ],
 "metadata": {
  "kernelspec": {
   "display_name": "Python 3",
   "language": "python",
   "name": "python3"
  },
  "language_info": {
   "codemirror_mode": {
    "name": "ipython",
    "version": 3
   },
   "file_extension": ".py",
   "mimetype": "text/x-python",
   "name": "python",
   "nbconvert_exporter": "python",
   "pygments_lexer": "ipython3",
   "version": "3.6.5"
  }
 },
 "nbformat": 4,
 "nbformat_minor": 2
}
